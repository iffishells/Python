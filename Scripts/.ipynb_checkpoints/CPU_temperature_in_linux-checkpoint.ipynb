{
 "cells": [
  {
   "cell_type": "code",
   "execution_count": null,
   "metadata": {},
   "outputs": [],
   "source": [
    "# !sudo apt install tlp -y\n",
    "\n",
    "# Make sure you tlp utility installed at your System if not then follow these steps:\n",
    "     # sudo apt install tlp -y -->> write this command in your terminal\n",
    "#then run this script\n",
    "\n",
    "def calculate_temperatue():\n",
    "    # Average temperture for linux\n",
    "    \n",
    "    \n",
    "    from datetime import datetime\n",
    "    start_time = datetime.now()\n",
    "\n",
    "    import re\n",
    "    import numpy as np\n",
    "    run_times = 500\n",
    "    lst_temperture = []\n",
    "    for num in range(run_times):\n",
    "        var = !tlp-stat -t\n",
    "        var = str(var)\n",
    "        temp =re.findall(r\"\\d{2}\",var)\n",
    "        temp = int(temp[0])\n",
    "        lst_temperture.append(temp)\n",
    "\n",
    "    average_temperature = np.mean(lst_temperture)\n",
    "    most_upcomes =  np.median(lst_temperture)\n",
    "    end_time = datetime.now()\n",
    "    require_Time = end_time - start_time\n",
    "    \n",
    "    final_output = \"The Average Temperature {t1} \\n most_up {most} \\n Duaration : {T1}\".format(t1=average_temperature,most=most_upcomes,T1=require_Time)\n",
    "    return final_output\n",
    "\n",
    "calculate_temperatue()"
   ]
  }
 ],
 "metadata": {
  "kernelspec": {
   "display_name": "Python 3",
   "language": "python",
   "name": "python3"
  },
  "language_info": {
   "codemirror_mode": {
    "name": "ipython",
    "version": 3
   },
   "file_extension": ".py",
   "mimetype": "text/x-python",
   "name": "python",
   "nbconvert_exporter": "python",
   "pygments_lexer": "ipython3",
   "version": "3.8.3"
  }
 },
 "nbformat": 4,
 "nbformat_minor": 4
}
